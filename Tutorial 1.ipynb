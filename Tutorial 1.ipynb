{
 "cells": [
  {
   "cell_type": "markdown",
   "metadata": {},
   "source": [
    "<h1><b><center>WIA2005 Algorithm Design and Analysis</center></b></h1>\n",
    "<h2><center>Semester 2</center></h2>\n",
    "<h2><center>Tutorial 1</center></h2>"
   ]
  },
  {
   "cell_type": "markdown",
   "metadata": {},
   "source": [
    "<div class=\"alert alert-block alert-info\">\n",
    "<b>Question 1</b>\n",
    "</div>"
   ]
  },
  {
   "cell_type": "markdown",
   "metadata": {},
   "source": [
    "<h4>The following is an insertion sort algorithm</h4>"
   ]
  },
  {
   "cell_type": "markdown",
   "metadata": {},
   "source": [
    "<br>def InsertionSort(A):</br>\n",
    "<br>    for j in range(1,len(A),1):</br>\n",
    "<br>        key = A [j]</br>\n",
    "<br>        i = j-1</br>\n",
    "<br>        while(i>=0 and A[i]>key):</br>\n",
    "<br>            A[i+1] = A[i]</br>\n",
    "<br>            i = i-1</br>\n",
    "<br>            A[i+1]=key</br>"
   ]
  },
  {
   "cell_type": "markdown",
   "metadata": {},
   "source": [
    "<h4>Illustrate the insertion sort operation on array A = 41,51,69,36,51,68</h4>"
   ]
  },
  {
   "cell_type": "markdown",
   "metadata": {},
   "source": [
    "<div class=\"alert alert-block alert-success\">\n",
    "<b>Answer:</b>\n",
    "</div>"
   ]
  },
  {
   "cell_type": "markdown",
   "metadata": {},
   "source": [
    "#### In insertion sort, we are going to divide the list into 2 parts, sorted and unsorted\n",
    "#### For array A, sorted = 41, unsorted = 51,69,36,51,68\n",
    "#### Based on line 2 of the code snippet provided, the for loop will initiate at 1 because the unsorted list actually starts at index 1, loop till length of A and the step will be 1 which means increment by 1 after each looping\n",
    "#### We initialize the key to be the first index of the unsorted list, the variable i indicates the last index of the sorted list so that the comparison process can be done easier\n",
    "#### For the while loop, we included 2 conditions that must be fulfiled to continue the loop which are i must be positive because python allows negative indexing and the last index of the sorted list must be greater than the key which is the first index of the sorted list\n",
    "#### if conditions are fulfiled, both elements will be swapped by assigning the last index of the sorted list to be first index of the unsorted list\n",
    "#### the value i will be decremented by one to step back the looping index\n",
    "#### the key value is then placed to the last index of the sorted list.\n",
    "####\n",
    "#### For the first iteration: \n",
    "#### Sorted : 41 Unsorted : 51,69,36,51,68\n",
    "#### Since last index of sorted < first index of unsorted, no changes\n",
    "####\n",
    "#### For the second iteration:\n",
    "#### Sorted : 41,51 Unsorted : 69,36,51,68\n",
    "#### Since last index of sorted < first index of unsorted, no changes\n",
    "####\n",
    "#### For the third iteration:\n",
    "#### Sorted: 41,51,69 Unsorted : 36,51,68\n",
    "#### Since last index of sorted > first index of unsorted, forced to swap and check\n",
    "####\n",
    "#### Check in while loop\n",
    "#### Sorted : 41,51,36,69 Unsorted : 51,68\n",
    "#### Sorted : 41,36,51,69 Unsorted : 51,68\n",
    "#### Sorted : 36,41,51,69 Unsorted : 51,68\n",
    "####\n",
    "#### For the fourth iteration:\n",
    "#### Sorted : 36,41,51,69 Unsorted : 51, 68\n",
    "#### Since last index of sorted > first index of unsorted, forced to swap and check\n",
    "####\n",
    "#### Check in while loop\n",
    "#### Sorted : 36,41,51,51,69 Unsorted : 68\n",
    "####\n",
    "#### For the fifth iteration:\n",
    "#### Sorted : 36,41,51,51,69 Unsorted : 68\n",
    "#### Since last index of sorted > first index of unsorted, forced to swap and check\n",
    "####\n",
    "#### Check in while loop\n",
    "#### Sorted: 36,41,51,51,68,69"
   ]
  },
  {
   "cell_type": "markdown",
   "metadata": {},
   "source": [
    "<div class=\"alert alert-block alert-info\">\n",
    "<b>Question 2</b>\n",
    "</div>"
   ]
  },
  {
   "cell_type": "markdown",
   "metadata": {},
   "source": [
    "<h4>Modify the insertion sort algorithm to sort array into decreasing order.</h4>"
   ]
  },
  {
   "cell_type": "code",
   "execution_count": 4,
   "metadata": {},
   "outputs": [],
   "source": [
    "def InsertionSort(A):\n",
    "    for j in range(1,len(A),1):\n",
    "        key = A [j]\n",
    "        i = j-1\n",
    "        while(i>=0 and A[i]<key):\n",
    "            A[i+1] = A[i]\n",
    "            i = i-1\n",
    "            A[i+1]=key"
   ]
  },
  {
   "cell_type": "code",
   "execution_count": 5,
   "metadata": {},
   "outputs": [],
   "source": [
    "list = [5,3,6,2,7,1]"
   ]
  },
  {
   "cell_type": "code",
   "execution_count": 6,
   "metadata": {},
   "outputs": [
    {
     "name": "stdout",
     "output_type": "stream",
     "text": [
      "7\n",
      "6\n",
      "5\n",
      "3\n",
      "2\n",
      "1\n"
     ]
    }
   ],
   "source": [
    "InsertionSort(list)\n",
    "for i in range(len(list)):\n",
    "    print (list[i])"
   ]
  },
  {
   "cell_type": "markdown",
   "metadata": {},
   "source": [
    "<div class=\"alert alert-block alert-info\">\n",
    "<b>Question 3</b>\n",
    "</div>"
   ]
  },
  {
   "cell_type": "markdown",
   "metadata": {},
   "source": [
    "<h4>Write a pseudocode for linear search for the following requirement:<h4>\n",
    "    <h4><b>Input: A sequence of n numbers A = [a1, a2, …, an] and a value v.</b></h4>\n",
    "    <h4><b>Output: An index i such that v = A[i] or the special value NIL if v does not appear in A.</b></h4>"
   ]
  },
  {
   "cell_type": "markdown",
   "metadata": {},
   "source": [
    "<div class=\"alert alert-block alert-success\">\n",
    "<b>Answer:</b>\n",
    "</div>"
   ]
  },
  {
   "cell_type": "markdown",
   "metadata": {},
   "source": [
    "#### procedure linear_search (A, v)\n",
    "\n",
    "#### for each item in the list A\n",
    "####      if match item == v\n",
    "####         return the item's index\n",
    "####      else\n",
    "####         return special value NIL\n",
    "####      end if\n",
    "####   end for\n",
    "\n",
    "#### end procedure"
   ]
  },
  {
   "cell_type": "markdown",
   "metadata": {},
   "source": [
    "<div class=\"alert alert-block alert-info\">\n",
    "<b>Question 4</b>\n",
    "</div>"
   ]
  },
  {
   "cell_type": "markdown",
   "metadata": {},
   "source": [
    "<h4>Express the function n^3 / 1000 – 100n^2 – 100n + 3 in terms of Θ-notation.</h4>"
   ]
  },
  {
   "cell_type": "markdown",
   "metadata": {},
   "source": [
    "<div class=\"alert alert-block alert-success\">\n",
    "<b>Answer:</b>\n",
    "</div>"
   ]
  },
  {
   "cell_type": "markdown",
   "metadata": {},
   "source": [
    "#### Θ(n^3)"
   ]
  },
  {
   "cell_type": "markdown",
   "metadata": {},
   "source": [
    "<div class=\"alert alert-block alert-info\">\n",
    "<b>Question 5</b>\n",
    "</div>"
   ]
  },
  {
   "cell_type": "markdown",
   "metadata": {},
   "source": [
    "<h4>For the following pairs of functions, f(n) and g(n), determine if they belong to Case 1: f(n) = O(g(n)) or Case 2: g(n) = O(f(n)). Formally justify your answer.</h4>"
   ]
  },
  {
   "cell_type": "markdown",
   "metadata": {},
   "source": [
    "a.\tf(n) = 3n +2 , g(n) = n"
   ]
  },
  {
   "cell_type": "markdown",
   "metadata": {},
   "source": [
    "<div class=\"alert alert-block alert-success\">\n",
    "<b>Answer:</b>\n",
    "</div>"
   ]
  },
  {
   "cell_type": "markdown",
   "metadata": {},
   "source": [
    "#### a. Assume n = 100 \n",
    "#### f(100) = 302\n",
    "#### g(100) = 100\n",
    "#### since f(100) > g(100) and this is true for all values of n,\n",
    "#### f(n)>g(n)\n",
    "#### hence, a. is Case 2 where g(n) = O(f(n))"
   ]
  },
  {
   "cell_type": "markdown",
   "metadata": {},
   "source": [
    "b.\tf(n) = (n^2 – n)/2 , g(n) = 6n"
   ]
  },
  {
   "cell_type": "markdown",
   "metadata": {},
   "source": [
    "<div class=\"alert alert-block alert-success\">\n",
    "<b>Answer:</b>\n",
    "</div>"
   ]
  },
  {
   "cell_type": "markdown",
   "metadata": {},
   "source": [
    "#### b. Assume n = 100\n",
    "#### f(100) = 4950\n",
    "#### g(100) = 600\n",
    "#### since f(100) > g(100) and this is true for all values of n,\n",
    "#### f(n) > g(n)\n",
    "#### hence, b. is Case 2 where g(n) = O(f(n))"
   ]
  },
  {
   "cell_type": "markdown",
   "metadata": {},
   "source": [
    "c.\tf(n) = n+2√n , g(n) = n^2"
   ]
  },
  {
   "cell_type": "markdown",
   "metadata": {},
   "source": [
    "<div class=\"alert alert-block alert-success\">\n",
    "<b>Answer:</b>\n",
    "</div>"
   ]
  },
  {
   "cell_type": "markdown",
   "metadata": {},
   "source": [
    "#### c. Assume n = 100\n",
    "#### f(100) = 110 \n",
    "#### g(100) = 10000\n",
    "#### Since f(100)<g(100) and this is true for all values of n,\n",
    "#### g(n) > f(n)\n",
    "#### hence, c. is Case 1 where f(n) = O(g(n))"
   ]
  },
  {
   "cell_type": "markdown",
   "metadata": {},
   "source": [
    "d.\tf(n) = n^2 + 3n + 4 , g(n) = n^3"
   ]
  },
  {
   "cell_type": "markdown",
   "metadata": {},
   "source": [
    "<div class=\"alert alert-block alert-success\">\n",
    "<b>Answer:</b>\n",
    "</div>"
   ]
  },
  {
   "cell_type": "markdown",
   "metadata": {},
   "source": [
    "#### d. Assume n = 100\n",
    "#### f(100) = 404\n",
    "#### g(100) = 1000000\n",
    "#### Since f(100)<g(100) and this is true for all values of n,\n",
    "#### g(n)>f(n)\n",
    "#### hence, d. is Case 1 where f(n) = O(g(n))"
   ]
  },
  {
   "cell_type": "markdown",
   "metadata": {},
   "source": [
    "<div class=\"alert alert-block alert-info\">\n",
    "<b>Question 6</b>\n",
    "</div>"
   ]
  },
  {
   "cell_type": "markdown",
   "metadata": {},
   "source": [
    "<h4>Given the iterative function below (in Java), calculate their time complexity. </h4>"
   ]
  },
  {
   "cell_type": "markdown",
   "metadata": {},
   "source": [
    "<br>a.\tfunction1 (){</br>\n",
    "<br>for (int i = 1; i <= n; i ++) {</br>          \n",
    "<br>printf(“Hello world”);</br>\n",
    "<br>}</br>\n",
    "\t\t<br>}</br>"
   ]
  },
  {
   "cell_type": "markdown",
   "metadata": {},
   "source": [
    "<div class=\"alert alert-block alert-success\">\n",
    "<b>Answer:</b>\n",
    "</div>"
   ]
  },
  {
   "cell_type": "markdown",
   "metadata": {},
   "source": [
    "#### loop-1 iterate n-times. Hence O(n)"
   ]
  },
  {
   "cell_type": "markdown",
   "metadata": {},
   "source": [
    "<br>b.\tfunction2(){</br>\n",
    "<br>for (int i = 1; i <=n; i ++) {</br>\n",
    "       \t\t<br>for (int j = 1; j <=n; j ++) {</br>\n",
    "          <br>printf(“Hello world”);</br>\n",
    "       <br>}</br>\n",
    "   <br>}</br>"
   ]
  },
  {
   "cell_type": "markdown",
   "metadata": {},
   "source": [
    "<div class=\"alert alert-block alert-success\">\n",
    "<b>Answer:</b>\n",
    "</div>"
   ]
  },
  {
   "cell_type": "markdown",
   "metadata": {},
   "source": [
    "#### loop-1 iterate n-times\n",
    "#### loop-2 iterate n-times\n",
    "#### so (n* n) = (n^2)\n",
    "#### Hence O(n^2)"
   ]
  },
  {
   "cell_type": "markdown",
   "metadata": {},
   "source": [
    "<br>c.\tfunction3 (){</br>\n",
    "<br>for (int i = 1; i^2 <= n; i ++) {</br>          \n",
    "<br>printf(“Hello world”);</br>\n",
    "<br>}</br>\n",
    "\t\t<br>}</br>"
   ]
  },
  {
   "cell_type": "markdown",
   "metadata": {},
   "source": [
    "<div class=\"alert alert-block alert-success\">\n",
    "<b>Answer:</b>\n",
    "</div>"
   ]
  },
  {
   "cell_type": "markdown",
   "metadata": {},
   "source": [
    "#### from loop-1, we can see that i^2 <=n\n",
    "#### Assume i^2 = n\n",
    "#### i = sqrt(n)\n",
    "#### We can conclude that loop-1 will iterate sqrt(n)-times\n",
    "#### Hence O(sqrt(n))"
   ]
  },
  {
   "cell_type": "markdown",
   "metadata": {},
   "source": [
    "<br>d.\tfunction4 (){</br>\n",
    "<br>for (int i = 1; i <= n; i = i*2) {   </br>       \n",
    "<br>printf(“Hello world”);</br>\n",
    "<br>}</br>\n",
    "\t\t<br>}</br>"
   ]
  },
  {
   "cell_type": "markdown",
   "metadata": {},
   "source": [
    "<div class=\"alert alert-block alert-success\">\n",
    "<b>Answer:</b>\n",
    "</div>"
   ]
  },
  {
   "cell_type": "markdown",
   "metadata": {},
   "source": [
    "#### from loop-1, assume that it stops once i >=n\n",
    "#### Assume that looping follows a general formula of 2^k\n",
    "#### From the 2 assumptions, we can say that 2^k >= n will be the stopping condition\n",
    "#### Therefore, it will loop n=2^k times\n",
    "#### from n=2^k\n",
    "#### log2(n) = k\n",
    "#### Hence, loop-1 will loop log2(n) times\n",
    "#### O(log(n))"
   ]
  },
  {
   "cell_type": "markdown",
   "metadata": {},
   "source": [
    "<br>e.\tfunction3(){</br>\n",
    "<br>for (int i = n/2; i <=n; i ++) {</br>\n",
    "\t\t<br>for (int j <= 1; j <=n/2; j = 2*j) {</br>\n",
    "\t\t\t<br>for (int k = 1; k <= n; k*2) {</br>\n",
    "\t\t\t\t<br>printf(“Hello world”);</br>\n",
    "       \t\t\t<br>}</br>\n",
    "   \t\t\t<br>}</br>\n",
    "<br>}</br>\n",
    "<br>}</br>\n",
    "<br>}</br>"
   ]
  },
  {
   "cell_type": "markdown",
   "metadata": {},
   "source": [
    "<div class=\"alert alert-block alert-success\">\n",
    "<b>Answer:</b>\n",
    "</div>"
   ]
  },
  {
   "cell_type": "markdown",
   "metadata": {},
   "source": [
    "#### from loop-1, it will loop n/2 times\n",
    "#### from loop-2, it will loop log(n) times\n",
    "#### from loop-3, it will loop log(n) times\n",
    "#### Hence, O(nlog(n^2))"
   ]
  }
 ],
 "metadata": {
  "kernelspec": {
   "display_name": "Python 3",
   "language": "python",
   "name": "python3"
  },
  "language_info": {
   "codemirror_mode": {
    "name": "ipython",
    "version": 3
   },
   "file_extension": ".py",
   "mimetype": "text/x-python",
   "name": "python",
   "nbconvert_exporter": "python",
   "pygments_lexer": "ipython3",
   "version": "3.8.5"
  }
 },
 "nbformat": 4,
 "nbformat_minor": 4
}
