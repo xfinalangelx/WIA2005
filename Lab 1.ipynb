{
 "cells": [
  {
   "cell_type": "markdown",
   "metadata": {},
   "source": [
    "<h1><b><center>WIA2005 Algorithm Design and Analysis</center></b></h1>\n",
    "<h2><center>Semester 2</center></h2>\n",
    "<h2><center>Lab 1</center></h2>"
   ]
  },
  {
   "cell_type": "markdown",
   "metadata": {},
   "source": [
    "<div class=\"alert alert-block alert-info\">\n",
    "<b>Question 1</b>\n",
    "</div>"
   ]
  },
  {
   "cell_type": "markdown",
   "metadata": {},
   "source": [
    "<h4>Create a program that asks the user to enter their name and their age. Print out a\n",
    "message addressed to them that tells them the year that they will turn 100 years old.</h4>"
   ]
  },
  {
   "cell_type": "markdown",
   "metadata": {},
   "source": [
    "<div class=\"alert alert-block alert-success\">\n",
    "<b>Answer:</b>\n",
    "</div>"
   ]
  },
  {
   "cell_type": "code",
   "execution_count": 1,
   "metadata": {},
   "outputs": [
    {
     "name": "stdout",
     "output_type": "stream",
     "text": [
      "Enter name: Richie\n",
      "Enter age: 22\n",
      "Richie will turn to 100 on year 2099\n"
     ]
    }
   ],
   "source": [
    "name = input(\"Enter name: \")\n",
    "age = int(input(\"Enter age: \"))\n",
    "year = 100 - age + 2021\n",
    "ans = str(year)\n",
    "print(name + ' will turn to 100 on year ' + ans)"
   ]
  },
  {
   "cell_type": "markdown",
   "metadata": {},
   "source": [
    "<div class=\"alert alert-block alert-info\">\n",
    "<b>Question 2</b>\n",
    "</div>"
   ]
  },
  {
   "cell_type": "markdown",
   "metadata": {},
   "source": [
    "<h4>Ask the user for a number. Depending on whether the number is even or odd, print out\n",
    "an appropriate message to the user. Hint: how does an even / odd number react\n",
    "differently when divided by 2?</h4>"
   ]
  },
  {
   "cell_type": "markdown",
   "metadata": {},
   "source": [
    "<div class=\"alert alert-block alert-success\">\n",
    "<b>Answer:</b>\n",
    "</div>"
   ]
  },
  {
   "cell_type": "code",
   "execution_count": 2,
   "metadata": {},
   "outputs": [
    {
     "name": "stdout",
     "output_type": "stream",
     "text": [
      "Enter number: 45\n",
      "The input is odd!\n"
     ]
    }
   ],
   "source": [
    "two = int(input('Enter number: '))\n",
    "if (two % 2 == 0):\n",
    "    print('The input is even!')\n",
    "else:\n",
    "    print('The input is odd!')"
   ]
  },
  {
   "cell_type": "markdown",
   "metadata": {},
   "source": [
    "<div class=\"alert alert-block alert-info\">\n",
    "<b>Question 3</b>\n",
    "</div>"
   ]
  },
  {
   "cell_type": "markdown",
   "metadata": {},
   "source": [
    "<h4>Take a list, say for example this one:<h4>\n",
    "    <h4><b>a = [1, 1, 2, 3, 5, 8, 13, 21, 34, 55, 89]</b></h4>\n",
    "    <h4><b>and write a program that prints out all the elements of the list that are less than 5.</b></h4>"
   ]
  },
  {
   "cell_type": "code",
   "execution_count": 3,
   "metadata": {},
   "outputs": [
    {
     "name": "stdout",
     "output_type": "stream",
     "text": [
      "1\n",
      "1\n",
      "2\n",
      "3\n"
     ]
    }
   ],
   "source": [
    "listThree = [1,1,2,3,5,8,13,21,34,55,89]\n",
    "for i in range (len(listThree)):\n",
    "    if(listThree[i]<5):\n",
    "        print(listThree[i])"
   ]
  },
  {
   "cell_type": "markdown",
   "metadata": {},
   "source": [
    "<div class=\"alert alert-block alert-info\">\n",
    "<b>Question 4</b>\n",
    "</div>"
   ]
  },
  {
   "cell_type": "markdown",
   "metadata": {},
   "source": [
    "<h4>Create a program that asks the user for a number and then prints out a list of all the\n",
    "divisors of that number. (If you don’t know what a divisor is, it is a number that divides\n",
    "evenly into another number. For example, 13 is a divisor of 26 because 26 / 13 has no\n",
    "remainder.)</h4>"
   ]
  },
  {
   "cell_type": "markdown",
   "metadata": {},
   "source": [
    "<div class=\"alert alert-block alert-success\">\n",
    "<b>Answer:</b>\n",
    "</div>"
   ]
  },
  {
   "cell_type": "code",
   "execution_count": 4,
   "metadata": {},
   "outputs": [
    {
     "name": "stdout",
     "output_type": "stream",
     "text": [
      "Enter a number: 234\n",
      "[1, 2, 3, 6, 9, 13, 18, 26, 39, 78, 117]\n"
     ]
    }
   ],
   "source": [
    "fourInput = int(input('Enter a number: '))\n",
    "fourList = []\n",
    "for i in range(1,fourInput,1):\n",
    "    if(fourInput%i == 0):\n",
    "        fourList.append(i)\n",
    "print(fourList)"
   ]
  },
  {
   "cell_type": "markdown",
   "metadata": {},
   "source": [
    "<div class=\"alert alert-block alert-info\">\n",
    "<b>Question 5</b>\n",
    "</div>"
   ]
  },
  {
   "cell_type": "markdown",
   "metadata": {},
   "source": [
    "<h4>Take two lists, say for example these two:</h4>"
   ]
  },
  {
   "cell_type": "markdown",
   "metadata": {},
   "source": [
    "<h4>a = [1, 1, 2, 3, 5, 8, 13, 21, 34, 55, 89]</h4>"
   ]
  },
  {
   "cell_type": "markdown",
   "metadata": {},
   "source": [
    "<h4> b = [1, 2, 3, 4, 5, 6, 7, 8, 9, 10, 11, 12, 13]</h4>"
   ]
  },
  {
   "cell_type": "markdown",
   "metadata": {},
   "source": [
    "<h4>and write a program that returns a list that contains only the elements that are common\n",
    "between the lists (without duplicates). Make sure your program works on two lists of\n",
    "different sizes.</h4>"
   ]
  },
  {
   "cell_type": "markdown",
   "metadata": {},
   "source": [
    "<div class=\"alert alert-block alert-success\">\n",
    "<b>Answer:</b>\n",
    "</div>"
   ]
  },
  {
   "cell_type": "code",
   "execution_count": 5,
   "metadata": {},
   "outputs": [
    {
     "name": "stdout",
     "output_type": "stream",
     "text": [
      "[1, 1, 2, 3, 5, 8, 13]\n"
     ]
    }
   ],
   "source": [
    "fiveListA = [1,1,2,3,5,8,13,21,34,55,89]\n",
    "fiveListB = [1,2,3,4,5,6,7,8,9,10,11,12,13]\n",
    "\n",
    "\n",
    "def finalListFive(listA,listB):\n",
    "    fiveFinalList = []\n",
    "    if(len(listA )>len(listB)):\n",
    "        for i in range(0,len(listB),1):\n",
    "            for j in range(0,len(listA),1):\n",
    "                if(listB[i] == listA[j]):\n",
    "                    fiveFinalList.append(listB[i])\n",
    "       \n",
    "    elif(len(listB)>len(listA)):\n",
    "        for i in range(0,len(listA),1):\n",
    "            for j in range(0,len(listB),1):\n",
    "                if(listA[i] == listB[j]):\n",
    "                    fiveFinalList.append(listA[i])\n",
    "    return fiveFinalList\n",
    "\n",
    "finalListQFive = finalListFive(fiveListA,fiveListB)\n",
    "print(finalListQFive)\n"
   ]
  },
  {
   "cell_type": "markdown",
   "metadata": {},
   "source": [
    "<div class=\"alert alert-block alert-info\">\n",
    "<b>Question 6</b>\n",
    "</div>"
   ]
  },
  {
   "cell_type": "markdown",
   "metadata": {},
   "source": [
    "<h4>Ask the user for a string and print out whether this string is a palindrome or not. (A\n",
    "palindrome is a string that reads the same forwards and backwards.)</h4>"
   ]
  },
  {
   "cell_type": "markdown",
   "metadata": {},
   "source": [
    "<div class=\"alert alert-block alert-success\">\n",
    "<b>Answer:</b>\n",
    "</div>"
   ]
  },
  {
   "cell_type": "code",
   "execution_count": 6,
   "metadata": {},
   "outputs": [
    {
     "name": "stdout",
     "output_type": "stream",
     "text": [
      "Enter a string: abcdcba\n",
      "Input is palindrome\n"
     ]
    }
   ],
   "source": [
    "inputSix = input('Enter a string: ')\n",
    "inputSixMirrored = inputSix[::-1]\n",
    "\n",
    "if inputSix == inputSixMirrored:\n",
    "    print('Input is palindrome')\n",
    "else:\n",
    "    print('Input is not palindrome')"
   ]
  },
  {
   "cell_type": "markdown",
   "metadata": {},
   "source": [
    "<div class=\"alert alert-block alert-info\">\n",
    "<b>Question 7</b>\n",
    "</div>"
   ]
  },
  {
   "cell_type": "markdown",
   "metadata": {},
   "source": [
    "<h4>Let’s say I give you a list saved in a variable: a = [1, 4, 9, 16, 25, 36, 49, 64, 81, 100].\n",
    "Write one line of Python that takes this list a and makes a new list that has only the even\n",
    "elements of this list in it.</h4>"
   ]
  },
  {
   "cell_type": "markdown",
   "metadata": {},
   "source": [
    "<div class=\"alert alert-block alert-success\">\n",
    "<b>Answer:</b>\n",
    "</div>"
   ]
  },
  {
   "cell_type": "code",
   "execution_count": 7,
   "metadata": {},
   "outputs": [
    {
     "name": "stdout",
     "output_type": "stream",
     "text": [
      "[4, 16, 36, 64, 100]\n"
     ]
    }
   ],
   "source": [
    "sevenA = [1,4,9,16,25,36,49,64,81,100]\n",
    "sevenOutput = [i for i in sevenA if i%2 ==0]\n",
    "print(sevenOutput)"
   ]
  },
  {
   "cell_type": "markdown",
   "metadata": {},
   "source": [
    "<div class=\"alert alert-block alert-info\">\n",
    "<b>Question 8</b>\n",
    "</div>"
   ]
  },
  {
   "cell_type": "markdown",
   "metadata": {},
   "source": [
    "<h4>Make a two-player Rock-Paper-Scissors game. ( Hint: Ask for player plays (using\n",
    "input),compare them, print out a message of congratulations to the winner, and ask if the\n",
    "players want to start a new game)</h4>"
   ]
  },
  {
   "cell_type": "markdown",
   "metadata": {},
   "source": [
    "<div class=\"alert alert-block alert-success\">\n",
    "<b>Answer:</b>\n",
    "</div>"
   ]
  },
  {
   "cell_type": "code",
   "execution_count": 8,
   "metadata": {},
   "outputs": [
    {
     "name": "stdout",
     "output_type": "stream",
     "text": [
      "Do you want to start a new game? Y/N?Y\n",
      "Do you want to start a new game? Y/N?Y\n",
      "What do you choose? Rock, Paper, or Scissors?Rock\n",
      "What do you choose? Rock, Paper, or Scissors?Rock\n",
      "It's a tie!\n",
      "Do you want to start a new game? Y/N?Y\n",
      "Do you want to start a new game? Y/N?Y\n",
      "What do you choose? Rock, Paper, or Scissors?Rock\n",
      "What do you choose? Rock, Paper, or Scissors?Paper\n",
      "User Two Wins!\n",
      "Do you want to start a new game? Y/N?Y\n",
      "Do you want to start a new game? Y/N?Y\n",
      "What do you choose? Rock, Paper, or Scissors?Rock\n",
      "What do you choose? Rock, Paper, or Scissors?Scissors\n",
      "User One Wins!\n",
      "Do you want to start a new game? Y/N?Y\n",
      "Do you want to start a new game? Y/N?N\n",
      "Thanks for playing! Goodbye!\n"
     ]
    }
   ],
   "source": [
    "def gameEight():\n",
    "    userOneEight = input('What do you choose? Rock, Paper, or Scissors?')\n",
    "    userTwoEight = input('What do you choose? Rock, Paper, or Scissors?')\n",
    "    if(userOneEight == userTwoEight):\n",
    "        print(\"It's a tie!\")\n",
    "    elif(userOneEight == 'Rock' and userTwoEight == 'Paper'):\n",
    "        print('User Two Wins!')\n",
    "    elif(userOneEight == 'Rock' and userTwoEight == 'Scissors'):\n",
    "        print('User One Wins!')\n",
    "    elif(userOneEight == 'Paper' and userTwoEight == 'Rock'):\n",
    "        print('User One Wins!')\n",
    "    elif(userOneEight == 'Paper' and userTwoEight == 'Scissors'):\n",
    "        print('User Two Wins!')\n",
    "    elif(userOneEight == 'Scissors' and userTwoEight == 'Paper'):\n",
    "        print('User One Wins!')\n",
    "    elif(userOneEight == 'Scissors' and userTwoEight == 'Rock'):\n",
    "        print('User Two Wins!')\n",
    "i = 1\n",
    "while True:        \n",
    "    startEightOne = input('Do you want to start a new game? Y/N?')\n",
    "    startEightTwo = input('Do you want to start a new game? Y/N?')\n",
    "    if(startEightOne == \"Y\" and startEightTwo == \"Y\"):\n",
    "        gameEight()\n",
    "    else:\n",
    "        print(\"Thanks for playing! Goodbye!\")\n",
    "        break\n",
    "\n"
   ]
  },
  {
   "cell_type": "markdown",
   "metadata": {},
   "source": [
    "<div class=\"alert alert-block alert-info\">\n",
    "<b>Question 9</b>\n",
    "</div>"
   ]
  },
  {
   "cell_type": "markdown",
   "metadata": {},
   "source": [
    "<h4>Generate a random number between 1 and 9 (including 1 and 9). Ask the user to guess\n",
    "the number, then tell them whether they guessed too low, too high, or exactly right.</h4>"
   ]
  },
  {
   "cell_type": "markdown",
   "metadata": {},
   "source": [
    "<div class=\"alert alert-block alert-success\">\n",
    "<b>Answer:</b>\n",
    "</div>"
   ]
  },
  {
   "cell_type": "code",
   "execution_count": 9,
   "metadata": {},
   "outputs": [
    {
     "name": "stdout",
     "output_type": "stream",
     "text": [
      "Enter a number(1-9): 8\n",
      "Too high!\n"
     ]
    }
   ],
   "source": [
    "import random as rng\n",
    "\n",
    "numberNine = rng.randint(1,9)\n",
    "userNine = int(input('Enter a number(1-9): '))\n",
    "##print(numberNine) tester \n",
    "if(userNine == numberNine):\n",
    "    print('Exactly!')\n",
    "elif(userNine > numberNine):\n",
    "    print('Too high!')\n",
    "elif(userNine < numberNine):\n",
    "    print('Too low!')"
   ]
  },
  {
   "cell_type": "markdown",
   "metadata": {},
   "source": [
    "<div class=\"alert alert-block alert-info\">\n",
    "<b>Question 10</b>\n",
    "</div>"
   ]
  },
  {
   "cell_type": "markdown",
   "metadata": {},
   "source": [
    "<h4>Ask the user for a number and determine whether the number is prime or not. </h4>"
   ]
  },
  {
   "cell_type": "markdown",
   "metadata": {},
   "source": [
    "<div class=\"alert alert-block alert-success\">\n",
    "<b>Answer:</b>\n",
    "</div>"
   ]
  },
  {
   "cell_type": "code",
   "execution_count": 10,
   "metadata": {},
   "outputs": [
    {
     "name": "stdout",
     "output_type": "stream",
     "text": [
      "Enter a number: 24\n",
      "24 is not a prime number\n"
     ]
    }
   ],
   "source": [
    "userTen = int(input('Enter a number: '))      \n",
    "if userTen > 1:\n",
    "    for i in range(2, userTen//2):\n",
    "        if (userTen % i) == 0:\n",
    "            print(userTen, \"is not a prime number\")\n",
    "            break\n",
    "        else:\n",
    "            print(userTen, \"is a prime number\")\n",
    "else:\n",
    "    print(userTen, \"is not a prime number\")"
   ]
  },
  {
   "cell_type": "markdown",
   "metadata": {},
   "source": [
    "<div class=\"alert alert-block alert-info\">\n",
    "<b>Question 11</b>\n",
    "</div>"
   ]
  },
  {
   "cell_type": "markdown",
   "metadata": {},
   "source": [
    "<h4>Write a program that takes a list of numbers (for example, a = [5, 10, 15, 20, 25]) and\n",
    "makes a new list of only the first and last elements of the given list. For practice, write\n",
    "this code inside a function.</h4>"
   ]
  },
  {
   "cell_type": "markdown",
   "metadata": {},
   "source": [
    "<div class=\"alert alert-block alert-success\">\n",
    "<b>Answer:</b>\n",
    "</div>"
   ]
  },
  {
   "cell_type": "code",
   "execution_count": 11,
   "metadata": {},
   "outputs": [
    {
     "name": "stdout",
     "output_type": "stream",
     "text": [
      "[5, 25]\n"
     ]
    }
   ],
   "source": [
    "listElevenA = [5,10,15,20,25]\n",
    "\n",
    "def listEleven(list):\n",
    "    listEnd = [list[0],list[len(list)-1]]\n",
    "    return listEnd\n",
    "listAns = listEleven(listElevenA)\n",
    "print(listAns)"
   ]
  },
  {
   "cell_type": "markdown",
   "metadata": {},
   "source": [
    "<div class=\"alert alert-block alert-info\">\n",
    "<b>Question 12</b>\n",
    "</div>"
   ]
  },
  {
   "cell_type": "markdown",
   "metadata": {},
   "source": [
    "<h4>Write a program that asks the user how many Fibonnaci numbers to generate and then\n",
    "generates them. Take this opportunity to think about how you can use functions. Make\n",
    "sure to ask the user to enter the number of numbers in the sequence to generate.(Hint:\n",
    "The Fibonnaci seqence is a sequence of numbers where the next number in the\n",
    "sequence is the sum of the previous two numbers in the sequence. The sequence looks\n",
    "like this: 1, 1, 2, 3, 5, 8, 13, …)</h4>"
   ]
  },
  {
   "cell_type": "markdown",
   "metadata": {},
   "source": [
    "<div class=\"alert alert-block alert-success\">\n",
    "<b>Answer:</b>\n",
    "</div>"
   ]
  },
  {
   "cell_type": "code",
   "execution_count": 12,
   "metadata": {},
   "outputs": [
    {
     "name": "stdout",
     "output_type": "stream",
     "text": [
      "Enter the number of Fibonacci numbers: 6\n",
      "Fibonacci sequence:\n",
      "0\n",
      "1\n",
      "1\n",
      "2\n",
      "3\n",
      "5\n"
     ]
    }
   ],
   "source": [
    "inputTwelve = int(input('Enter the number of Fibonacci numbers: '))\n",
    "\n",
    "def generatorTwelve(input):\n",
    "    n1, n2 = 0, 1\n",
    "    count = 0\n",
    "    if inputTwelve <= 0:\n",
    "        print(\"Please enter a positive integer\")\n",
    "    elif inputTwelve == 1:\n",
    "        print(\"Fibonacci sequence upto\",inputTwelve,\":\")\n",
    "        print(n1)\n",
    "    else:\n",
    "        print(\"Fibonacci sequence:\")\n",
    "        while count < inputTwelve:\n",
    "            print(n1)\n",
    "            nth = n1 + n2\n",
    "            n1 = n2\n",
    "            n2 = nth\n",
    "            count += 1\n",
    "generatorTwelve(inputTwelve)"
   ]
  },
  {
   "cell_type": "markdown",
   "metadata": {},
   "source": [
    "<div class=\"alert alert-block alert-info\">\n",
    "<b>Question 13</b>\n",
    "</div>"
   ]
  },
  {
   "cell_type": "markdown",
   "metadata": {},
   "source": [
    "<h4>Write a program (function!) that takes a list and returns a new list that contains all the\n",
    "elements of the first list minus all the duplicates.</h4>"
   ]
  },
  {
   "cell_type": "markdown",
   "metadata": {},
   "source": [
    "<div class=\"alert alert-block alert-success\">\n",
    "<b>Answer:</b>\n",
    "</div>"
   ]
  },
  {
   "cell_type": "code",
   "execution_count": 13,
   "metadata": {},
   "outputs": [
    {
     "name": "stdout",
     "output_type": "stream",
     "text": [
      "[1, 2, 3, 45, 6, 5, 7]\n"
     ]
    }
   ],
   "source": [
    "def function(list):\n",
    "    listThirteenOut = []\n",
    "    for i in list:\n",
    "        if i not in listThirteenOut:\n",
    "            listThirteenOut.append(i)\n",
    "    return listThirteenOut\n",
    "listThirteen = [1,2,2,3,45,6,2,5,7]\n",
    "final = function(listThirteen)\n",
    "print(final)"
   ]
  },
  {
   "cell_type": "markdown",
   "metadata": {},
   "source": [
    "<div class=\"alert alert-block alert-info\">\n",
    "<b>Question 14</b>\n",
    "</div>"
   ]
  },
  {
   "cell_type": "markdown",
   "metadata": {},
   "source": [
    "<h4>Write a program (using functions!) that asks the user for a long string containing multiple\n",
    "words. Print back to the user the same string, except with the words in backwards order.\n",
    "For example, say I type the string:\n",
    "My name is Michele</h4>"
   ]
  },
  {
   "cell_type": "markdown",
   "metadata": {},
   "source": [
    "<h4>Then I would see the string:\n",
    "Michele is name My\n",
    "shown back to me.\n",
    "</h4>"
   ]
  },
  {
   "cell_type": "markdown",
   "metadata": {},
   "source": [
    "<div class=\"alert alert-block alert-success\">\n",
    "<b>Answer:</b>\n",
    "</div>"
   ]
  },
  {
   "cell_type": "code",
   "execution_count": 14,
   "metadata": {},
   "outputs": [
    {
     "name": "stdout",
     "output_type": "stream",
     "text": [
      "Enter a string: Hello I am Richie\n",
      "Richie am I Hello \n"
     ]
    }
   ],
   "source": [
    "def function(input):\n",
    "    inputpro = input.split()\n",
    "    list = []\n",
    "    finalString=''\n",
    "    for i in range(len(inputpro)-1, -1, -1):\n",
    "        list.append(inputpro[i])\n",
    "    for i in range(0,len(list),1):\n",
    "        finalString = finalString + list[i] + \" \"\n",
    "    return finalString\n",
    "\n",
    "\n",
    "inputFourteen = input('Enter a string: ')\n",
    "finaList = function(inputFourteen)\n",
    "print(finaList)"
   ]
  },
  {
   "cell_type": "markdown",
   "metadata": {},
   "source": [
    "<div class=\"alert alert-block alert-info\">\n",
    "<b>Question 15</b>\n",
    "</div>"
   ]
  },
  {
   "cell_type": "markdown",
   "metadata": {},
   "source": [
    "<h4>Write a password generator in Python. Be creative with how you generate passwords -\n",
    "strong passwords have a mix of lowercase letters, uppercase letters, numbers, and\n",
    "symbols. The passwords should be random, generating a new password every time the\n",
    "user asks for a new password. Include your run-time code in a main method.</h4>"
   ]
  },
  {
   "cell_type": "markdown",
   "metadata": {},
   "source": [
    "<div class=\"alert alert-block alert-success\">\n",
    "<b>Answer:</b>\n",
    "</div>"
   ]
  },
  {
   "cell_type": "code",
   "execution_count": 15,
   "metadata": {},
   "outputs": [
    {
     "name": "stdout",
     "output_type": "stream",
     "text": [
      "How strong would you like your password to be?\n",
      "Weak, medium, or strong?Strong\n",
      "~9PlS_]T-UBduB&\n"
     ]
    }
   ],
   "source": [
    "import random\n",
    "import string\n",
    "strength = (input(\"How strong would you like your password to be?\\nWeak, medium, or strong?\")).lower() \n",
    "\n",
    "if strength == \"weak\": \n",
    "    user_len = 6\n",
    "elif strength == \"strong\": \n",
    "    user_len = 15\n",
    "else:                      \n",
    "    user_len = 10\n",
    "password = []              \n",
    "\n",
    "\n",
    "def pass_gen():\n",
    "    char_list = (list(string.ascii_letters + string.punctuation + string.digits))\n",
    "    for i in range(0, user_len):    \n",
    "        password.append(random.choice(char_list))\n",
    "    print(''.join(password))\n",
    "\n",
    "pass_gen()"
   ]
  }
 ],
 "metadata": {
  "kernelspec": {
   "display_name": "Python 3",
   "language": "python",
   "name": "python3"
  },
  "language_info": {
   "codemirror_mode": {
    "name": "ipython",
    "version": 3
   },
   "file_extension": ".py",
   "mimetype": "text/x-python",
   "name": "python",
   "nbconvert_exporter": "python",
   "pygments_lexer": "ipython3",
   "version": "3.8.5"
  }
 },
 "nbformat": 4,
 "nbformat_minor": 4
}
